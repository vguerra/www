{
 "cells": [
  {
   "attachments": {},
   "cell_type": "markdown",
   "metadata": {},
   "source": [
    "---\n",
    "title: \"Notes on MLIR\"\n",
    "description: \"Key concepts in the MLIR ecosystem\"\n",
    "author: \"Victor Guerra\"\n",
    "date: 2023-04-14\n",
    "date-modified: last-modified\n",
    "date-format: full\n",
    "draft: false\n",
    "page-layout: full\n",
    "categories: \n",
    "    - mlir\n",
    "    - compilers\n",
    "    - notes\n",
    "---"
   ]
  },
  {
   "cell_type": "markdown",
   "metadata": {},
   "source": []
  }
 ],
 "metadata": {},
 "nbformat": 4,
 "nbformat_minor": 2
}
