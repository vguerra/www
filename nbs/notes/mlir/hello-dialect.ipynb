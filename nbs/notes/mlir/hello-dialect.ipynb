{
 "cells": [
  {
   "attachments": {},
   "cell_type": "markdown",
   "metadata": {},
   "source": [
    "---\n",
    "title: \"A step by step guide to build the HELLO dialect for MLIR\"\n",
    "description: \"Building a dialect from 0, incrementally\"\n",
    "author: \"Victor Guerra\"\n",
    "date: 2023-05-16\n",
    "date-modified: last-modified\n",
    "date-format: full\n",
    "draft: false\n",
    "page-layout: full\n",
    "categories: \n",
    "    - mlir\n",
    "    - compilers\n",
    "    - posts\n",
    "---"
   ]
  },
  {
   "attachments": {},
   "cell_type": "markdown",
   "metadata": {},
   "source": [
    "The first step is to set up a CMake file to be able to build all the artifacts for our dialect. For that, we start with the simplest `CMakeList.txt` file possible:"
   ]
  },
  {
   "attachments": {},
   "cell_type": "markdown",
   "metadata": {},
   "source": [
    "```cmake\n",
    "cmake_minimum_required(VERSION 3.20.0)\n",
    "\n",
    "project(mlir-hello LANGUAGES CXX C)\n",
    "\n",
    "set(CMAKE_CXX_STANDARD 17 CACHE STRING \"C++ standard to conform to\")\n",
    "\n",
    "find_package(MLIR REQUIRED CONFIG)\n",
    "\n",
    "message(STATUS \"Using MLIRConfig.cmake in: ${MLIR_DIR}\")\n",
    "message(STATUS \"Using LLVMConfig.cmake in: ${LLVM_DIR}\")\n",
    "\n",
    "```"
   ]
  },
  {
   "attachments": {},
   "cell_type": "markdown",
   "metadata": {},
   "source": [
    "First, we name the project and specified the languages needed to build it. `C++` and `C` in this case.\n",
    "\n",
    "Then we make sure that we locate the `MLIR` package (and `LLVM` subsequentially) and load its specific details.\n",
    "\n",
    "This is the most basic `CMake` setup that you need to start working on your own dialect. You can already try to build your project, as follows:\n"
   ]
  },
  {
   "attachments": {},
   "cell_type": "markdown",
   "metadata": {},
   "source": []
  },
  {
   "cell_type": "code",
   "execution_count": null,
   "metadata": {},
   "outputs": [],
   "source": [
    "rm -rf build\n",
    "mkdir build\n",
    "\n",
    "\n",
    "pushd build\n",
    "\n",
    "LLVM_BUILD_DIR=<PATH TO LLVMs BUILD DIRECTORY>\n",
    "\n",
    "cmake -G Ninja .. \\\n",
    "    -DLLVM_DIR=\"$LLVM_BUILD_DIR/lib/cmake/llvm\" \\\n",
    "    -DMLIR_DIR=\"$LLVM_BUILD_DIR/lib/cmake/mlir\" \\\n",
    "    -DCMAKE_BUILD_TYPE=Debug\n",
    "\n",
    "cmake --build .\n",
    "# cmake --build . --target hello-opt\n",
    "\n",
    "popd"
   ]
  }
 ],
 "metadata": {},
 "nbformat": 4,
 "nbformat_minor": 2
}
