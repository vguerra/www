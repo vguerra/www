{
 "cells": [
  {
   "attachments": {},
   "cell_type": "markdown",
   "metadata": {},
   "source": [
    "---\n",
    "title: \"Notes on MOJO\"\n",
    "description: \"Key concepts in MOJO programming language\"\n",
    "author: \"Victor Guerra\"\n",
    "date: 2023-05-03\n",
    "date-modified: last-modified\n",
    "date-format: full\n",
    "draft: false\n",
    "page-layout: full\n",
    "toc: true\n",
    "toc-depth: 2\n",
    "categories: \n",
    "    - mojo\n",
    "    - compilers\n",
    "    - notes\n",
    "---"
   ]
  },
  {
   "attachments": {},
   "cell_type": "markdown",
   "metadata": {},
   "source": [
    "# Launch of Mojo programming language\n",
    "\n",
    "On May the 2nd 2023, Mojo was announced ^[[Modular's official announcement event](https://www.modular.com/blog/a-unified-extensible-platform-to-superpower-your-ai)] to the world by Modular. Check out the "
   ]
  },
  {
   "attachments": {},
   "cell_type": "markdown",
   "metadata": {},
   "source": [
    "# Advantages of using Mojo\n",
    "\n",
    "* Powerful compile time metaprogramming\n",
    "* Integration of adaptive compilation techniques\n",
    "* Caching thorught the compilation flow\n",
    "* Leverages the MLIR ecosystem\n",
    "* Systems level programming\n",
    "* AI/ML \n",
    "* Member of the Python family (like the big brother of Python)\n",
    "    * It is a superset of Python\n",
    "    * Embraces Python ecosystem\n",
    "    * Uses CPYthon to run Python3 out of the box\n",
    "    * Migrator to move from Python to Mojo - you can progressively move code"
   ]
  },
  {
   "attachments": {},
   "cell_type": "markdown",
   "metadata": {},
   "source": [
    "# Python problems\n",
    "\n",
    "* Not suitable for systems programming\n",
    "* Complicated to build hybrid libraries (C/C++), requires low level understanding of CPython. The two world problem. Issues with debuggers, packaging is a pain.\n",
    "* Pushes the \"graph based\" paradigm, which is not very usable. (Pytorch 2 approach)\n",
    "* Deployment of Python based applications is challenging, specially when it comes to controlling dependencies."
   ]
  },
  {
   "attachments": {},
   "cell_type": "markdown",
   "metadata": {},
   "source": [
    "# Other approaches to improve Python\n",
    "\n",
    "* Improving CPython and JIT compiling: Great advances in CPython for Python 3.11 and Python 3.12 will include a trace optimizer.\n",
    "Great efforts but not help to get a unified language onto an accelerator. Systems programmers dont just seek performance, they also want a lot of \"predictability and control\" \n",
    "over how compute happens.\n",
    "\n",
    "* Python subsets: For example TorchScript, which uses Python like syntax, they can be easier to learn. Sadly not wide adoption.\n",
    "Generally dont interoperate with the Python ecosystem, missing tooling (debugger). This approaches attempt to solve a weak point\n",
    "of Python, but are not as good as Python's strong points. This approaches drive fragmentation and incompatibility makes migration difficult.\n",
    "\n",
    "* Embedded DSLs in Python: Think of Python decorators. They maintain compatibility with all Python ecosystem. Unfortunately the mini-language usually dont integrate well with debuggers and other workflow tooling.\n",
    "\n"
   ]
  }
 ],
 "metadata": {},
 "nbformat": 4,
 "nbformat_minor": 2
}
