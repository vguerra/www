{
 "cells": [
  {
   "attachments": {},
   "cell_type": "markdown",
   "metadata": {},
   "source": [
    "---\n",
    "title: \"A step by step guide to build the HELLO dialect for MLIR\"\n",
    "description: \"Building a MLIR dialect from 0\"\n",
    "author: \"Victor Guerra\"\n",
    "date: 2023-05-16\n",
    "date-modified: last-modified\n",
    "date-format: full\n",
    "draft: true\n",
    "page-layout: full\n",
    "categories: \n",
    "    - mlir\n",
    "    - compilers\n",
    "    - build-systems\n",
    "    - posts\n",
    "---"
   ]
  },
  {
   "attachments": {},
   "cell_type": "markdown",
   "metadata": {},
   "source": [
    "In this series of posts, we are going to see how to build from scratch a MLIR dialect. The dialect we are building here is the [*MLIR Hello Dialect*](https://github.com/Lewuathe/mlir-hello) by [Kai Sasaki](https://www.lewuathe.com/).\n",
    "\n",
    "## Prerequisites\n",
    "\n",
    "Throught the different posts I am going to assume you have a local build of MLIR. If you don't, you can checkout the [official getting started guide](https://mlir.llvm.org/getting_started/) for MLIR.\n",
    "\n",
    "## Overview of the Hello dialect\n",
    "\n",
    "The hello dialect provides 3 basic operations:\n",
    "\n",
    "* `hello.constant`: Constant operation that turns a literal into a SSA value.\n",
    "* `hello.print`: You guessed it, a print operation.\n",
    "* `hello.world`: Operation that prints \"Hello, World\".\n",
    "\n",
    "For a more detialed description of the operations checkout the [README of the Hello Dialect repo](https://github.com/Lewuathe/mlir-hello#operations).\n",
    "\n",
    "## Setting up the build system\n",
    "\n",
    "We start by creating a directory for our project, we name it `hello-dialect`."
   ]
  },
  {
   "attachments": {},
   "cell_type": "markdown",
   "metadata": {
    "vscode": {
     "languageId": "shellscript"
    }
   },
   "source": [
    "```bash\n",
    "$> mkdir hello-dialect\n",
    "```"
   ]
  },
  {
   "attachments": {},
   "cell_type": "markdown",
   "metadata": {},
   "source": [
    "And we proceed to set up CMake with a minimal set of commands to configure and build our project, for that we need a `CMakeLists.txt` file:"
   ]
  },
  {
   "attachments": {},
   "cell_type": "markdown",
   "metadata": {},
   "source": [
    "```cmake\n",
    "cmake_minimum_required(VERSION 3.20.0)\n",
    "\n",
    "project(mlir-hello LANGUAGES CXX C)\n",
    "\n",
    "set(CMAKE_CXX_STANDARD 17 CACHE STRING \"C++ standard to conform to\")\n",
    "\n",
    "find_package(MLIR REQUIRED CONFIG)\n",
    "\n",
    "message(STATUS \"Using MLIRConfig.cmake in: ${MLIR_DIR}\")\n",
    "message(STATUS \"Using LLVMConfig.cmake in: ${LLVM_DIR}\")\n",
    "```"
   ]
  },
  {
   "attachments": {},
   "cell_type": "markdown",
   "metadata": {},
   "source": [
    "First, we name the project `mlir-hello` and specified the languages needed to build it. `C++` and `C` in this case. Then we make sure that we locate the `MLIR` package (and `LLVM` subsequentially) and load its specific details. This is the most basic `CMake` setup that you need to start working on your own dialect. You can already try to build your project using this `bash` script:\n"
   ]
  },
  {
   "attachments": {},
   "cell_type": "markdown",
   "metadata": {
    "vscode": {
     "languageId": "shellscript"
    }
   },
   "source": [
    "```bash\n",
    "#!/bin/sh\n",
    "\n",
    "rm -rf build\n",
    "mkdir build\n",
    "\n",
    "\n",
    "pushd build\n",
    "\n",
    "LLVM_BUILD_DIR=<PATH TO LLVMs BUILD DIRECTORY>\n",
    "\n",
    "cmake -G Ninja .. \\\n",
    "    -DLLVM_DIR=\"$LLVM_BUILD_DIR/lib/cmake/llvm\" \\\n",
    "    -DMLIR_DIR=\"$LLVM_BUILD_DIR/lib/cmake/mlir\" \\\n",
    "    -DCMAKE_BUILD_TYPE=Debug\n",
    "\n",
    "popd\n",
    "```"
   ]
  },
  {
   "attachments": {},
   "cell_type": "markdown",
   "metadata": {},
   "source": [
    "Let's name it `build.sh`. Note that `LLVM_BUILD_DIR` should point to the `build` directory of your local MLIR build.\n",
    "\n",
    "If we run our `build.sh` script. We see the following output:"
   ]
  },
  {
   "cell_type": "code",
   "execution_count": null,
   "metadata": {
    "vscode": {
     "languageId": "shellscript"
    }
   },
   "outputs": [],
   "source": [
    "$> ./build.sh\n",
    "...\n",
    "-- Using MLIRConfig.cmake in: <PATH TO LLVMs BUILD DIRECTORY>/build/lib/cmake/mlir\n",
    "-- Using LLVMConfig.cmake in: <PATH TO LLVMs BUILD DIRECTORY>/build/lib/cmake/llvm\n",
    "-- Configuring done\n",
    "-- Generating done\n",
    "-- Build files have been written to: <PATH TO PROJECT DIRECTORY>/hello-dialect/build"
   ]
  },
  {
   "attachments": {},
   "cell_type": "markdown",
   "metadata": {},
   "source": [
    "## Defining the dialect\n",
    "\n",
    "Now we move forward to define the Hello Dialect in the [ODS](https://mlir.llvm.org/docs/DefiningDialects/Operations/) format. Let's start with the most basic definition."
   ]
  },
  {
   "attachments": {},
   "cell_type": "markdown",
   "metadata": {},
   "source": [
    "```cpp\n",
    "#ifndef HELLO_DIALECT\n",
    "#define HELLO_DIALECT\n",
    "\n",
    "include \"mlir/IR/OpBase.td\"\n",
    "\n",
    "//===----------------------------------------------------------------------===//\n",
    "// Hello dialect definition.\n",
    "//===----------------------------------------------------------------------===//\n",
    "\n",
    "def Hello_Dialect : Dialect {\n",
    "    let name = \"hello\";\n",
    "    let summary = \"A hello out-of-tree MLIR dialect.\";\n",
    "    let description = [{\n",
    "        This dialect is minimal example to implement hello-world kind of sample code\n",
    "        for MLIR.\n",
    "    }];\n",
    "    let cppNamespace = \"::hello\";\n",
    "    let hasConstantMaterializer = 1;\n",
    "}\n",
    "\n",
    "#endif // HELLO_DIALECT\n",
    "```"
   ]
  },
  {
   "attachments": {},
   "cell_type": "markdown",
   "metadata": {},
   "source": [
    "Let's name this file `HelloDialect.td`. But, where do we place it? Following the recommendation of [`Creating a Dialect`](https://mlir.llvm.org/docs/Tutorials/CreatingADialect/) tutorial, we should place the `TableGen` files in the `include` directory. So let's create the following layout of directories:\n",
    "\n",
    "```bash\n",
    "./\n",
    "├── CMakeLists.txt\n",
    "└── include/\n",
    "    ├── CMakeLists.txt\n",
    "    └── Hello/\n",
    "        ├── CMakeLists.txt\n",
    "        └── HelloDialect.td\n",
    "```\n",
    "\n",
    "Let's have a look at what the newly introduced `CMakeLists.txt` files should be.\n",
    "\n",
    "`./include/CMakeLists.txt` is simple, we just need to signal the existance of the `Hello` directory:\n",
    "\n",
    "```cmake\n",
    "add_subdirectory(Hello)\n",
    "```\n",
    "\n",
    "`./include/Hello/CMakeLists.txt` contains some `MLIR` related commands:\n",
    "\n",
    "```cmake\n",
    "add_mlir_dialect(HelloDialect hello)\n",
    "add_mlir_doc(HelloDialect HelloDialect Hello/ -gen-dialect-doc)\n",
    "```\n",
    "\n",
    "`add_mlir_dialect` declares a dialect in the include directory. Its parameters are the dialect name and the namespace to be used.\n",
    "\n",
    "`add_mlir_doc` generates the documenation for the dialect. Its parameters are the td filename, the name of the output markdown file, the name of the directory where to put the documentation and the command to execute."
   ]
  },
  {
   "attachments": {},
   "cell_type": "markdown",
   "metadata": {},
   "source": [
    "## Generating documentation and include files\n",
    "\n",
    "Next, lets run our `build.sh` script to generate the build files and explore some of the new ninja targets that have been generated."
   ]
  },
  {
   "cell_type": "code",
   "execution_count": null,
   "metadata": {
    "vscode": {
     "languageId": "shellscript"
    }
   },
   "outputs": [],
   "source": [
    "$> ./build.sh && ninja -C build -t targets\n",
    "...\n",
    "mlir-headers: phony\n",
    "...\n",
    "mlir-doc: phony\n",
    "...\n",
    "HelloDialectDocGen: phony\n",
    "MLIRHelloDialectIncGen: phony\n",
    "..."
   ]
  },
  {
   "attachments": {},
   "cell_type": "markdown",
   "metadata": {},
   "source": [
    "Among the listed targets, we got `HelloDialectDocGen` that will generate our dialect documentation and `MLIRHelloDialectIncGen` that generates C++ files that contain our dialect definition and declaration. But those targets are linked to `mlir-doc` and `mlir-headers` targets respectively.\n",
    "\n",
    "Let's generate first the docs with the `mlir-doc` target:"
   ]
  },
  {
   "cell_type": "code",
   "execution_count": null,
   "metadata": {
    "vscode": {
     "languageId": "shellscript"
    }
   },
   "outputs": [],
   "source": [
    "$> ninja -C build mlir-doc\n",
    "ninja: Entering directory `build'\n",
    "[1/2] Building HelloDialect.md..."
   ]
  },
  {
   "attachments": {},
   "cell_type": "markdown",
   "metadata": {},
   "source": [
    "Having a look at the `build` directory, we notice the generated markdown file. Not much content in there but it is a good start.\n",
    "\n",
    "```bash\n",
    "$> tree ./build/docs\n",
    "./build/docs\n",
    "└── Hello\n",
    "    └── HelloDialect.md\n",
    "\n",
    "2 directories, 1 file\n",
    "```"
   ]
  },
  {
   "attachments": {},
   "cell_type": "markdown",
   "metadata": {},
   "source": [
    "Now, header files:"
   ]
  },
  {
   "cell_type": "code",
   "execution_count": null,
   "metadata": {
    "vscode": {
     "languageId": "shellscript"
    }
   },
   "outputs": [],
   "source": [
    "$> ninja -C build mlir-headers\n",
    "ninja: Entering directory `build'\n",
    "[6/6] Building HelloDialectTypes.h.inc..."
   ]
  },
  {
   "cell_type": "code",
   "execution_count": null,
   "metadata": {
    "vscode": {
     "languageId": "shellscript"
    }
   },
   "outputs": [],
   "source": [
    "$> tree ./build/include\n",
    "./build/include\n",
    "├── CMakeFiles\n",
    "├── Hello\n",
    "│   ├── CMakeFiles\n",
    "│   ├── HelloDialect.cpp.inc\n",
    "│   ├── HelloDialect.cpp.inc.d\n",
    "│   ├── HelloDialect.h.inc\n",
    "│   ├── HelloDialect.h.inc.d\n",
    "│   ├── HelloDialect.md\n",
    "│   ├── HelloDialect.md.d\n",
    "│   ├── HelloDialectDialect.cpp.inc\n",
    "│   ├── HelloDialectDialect.cpp.inc.d\n",
    "│   ├── HelloDialectDialect.h.inc\n",
    "│   ├── HelloDialectDialect.h.inc.d\n",
    "│   ├── HelloDialectTypes.cpp.inc\n",
    "│   ├── HelloDialectTypes.cpp.inc.d\n",
    "│   ├── HelloDialectTypes.h.inc\n",
    "│   ├── HelloDialectTypes.h.inc.d\n",
    "│   └── cmake_install.cmake\n",
    "└── cmake_install.cmake\n",
    "\n",
    "4 directories, 16 files"
   ]
  },
  {
   "attachments": {},
   "cell_type": "markdown",
   "metadata": {},
   "source": [
    "At this very early stage, if you hav a look at `./build/include/Hello/HelloDialectDialect.cpp.inc` you'll find the `C++` dialect definition:\n",
    "\n",
    "```cpp\n",
    "/*===- TableGen'erated file -------------------------------------*- C++ -*-===*\\\n",
    "|*                                                                            *|\n",
    "|* Dialect Definitions                                                        *|\n",
    "|*                                                                            *|\n",
    "|* Automatically generated file, do not edit!                                 *|\n",
    "|*                                                                            *|\n",
    "\\*===----------------------------------------------------------------------===*/\n",
    "\n",
    "MLIR_DEFINE_EXPLICIT_TYPE_ID(::hello::HelloDialect)\n",
    "namespace hello {\n",
    "\n",
    "HelloDialect::HelloDialect(::mlir::MLIRContext *context)\n",
    "    : ::mlir::Dialect(getDialectNamespace(), context, ::mlir::TypeID::get<HelloDialect>()) {\n",
    "  \n",
    "  initialize();\n",
    "}\n",
    "\n",
    "HelloDialect::~HelloDialect() = default;\n",
    "\n",
    "} // namespace hello\n",
    "```"
   ]
  },
  {
   "attachments": {},
   "cell_type": "markdown",
   "metadata": {},
   "source": [
    "# Dialect Operations\n",
    "\n",
    "In order to introduce our Hello operations, we need the base operation `Hello_Op`:\n",
    "\n",
    "```cpp\n",
    "class Hello_Op<string mnemonic, list<Trait> traits = []> :\n",
    "        Op<Hello_Dialect, mnemonic, traits>;\n",
    "```\n",
    "\n",
    "Based on it, we can introduce the 3 operations we need:\n",
    "\n",
    "* `hello.constant`: \n",
    "```cpp\n",
    "def ConstantOp : Hello_Op<\"constant\", [Pure]> {\n",
    "  let summary = \"constant\";\n",
    "  let description = [{\n",
    "    Constant operation turns a literal into an SSA value. The data is attached\n",
    "    to the operation as an attribute. For example:\n",
    "\n",
    "    ```mlir\n",
    "      %0 = \"hello.constant\"()\n",
    "      { value = dense<[[1.0, 2.0, 3.0], [4.0, 5.0, 6.0]]> : tensor<2x3xf64> }\n",
    "      : () -> tensor<2x3xf64>\n",
    "    ```\n",
    "  }];\n",
    "\n",
    "  let builders = [\n",
    "    OpBuilder<(ins \"mlir::DenseElementsAttr\":$value), [{\n",
    "      build($_builder, $_state, value.getType(), value);\n",
    "    }]>,\n",
    "    OpBuilder<(ins \"double\":$value)>\n",
    "  ];\n",
    "\n",
    "//  let parser = [{ return ::parseConstantOp(parser, result); }];\n",
    "  let arguments = (ins F64ElementsAttr:$value);\n",
    "  let results = (outs F64Tensor);\n",
    "}\n",
    "```\n",
    "\n",
    "* `hello.print`:\n",
    "```cpp\n",
    "def PrintOp : Hello_Op<\"print\", [Pure]> {\n",
    "    let summary = \"print operation\";\n",
    "    let description = [{\n",
    "        The \"print\" builtin operation prints a given input tensor, and produces\n",
    "        no results.\n",
    "    }];\n",
    "\n",
    "    // The print operation takes an input tensor to print.\n",
    "    let arguments = (ins AnyTypeOf<[F64Tensor, F64MemRef]>:$input);\n",
    "\n",
    "    let assemblyFormat = \"$input attr-dict `:` type($input)\";\n",
    "}\n",
    "```cpp\n",
    "```\n",
    "\n",
    "* `hello.world`:\n",
    "```cpp\n",
    "def WorldOp : Hello_Op<\"world\", [Pure]> {\n",
    "    let summary = \"print Hello, World\";\n",
    "    let description = [{\n",
    "        The \"world\" operation prints \"Hello, World\", and produces\n",
    "        no results.\n",
    "    }];\n",
    "}\n",
    "```"
   ]
  },
  {
   "attachments": {},
   "cell_type": "markdown",
   "metadata": {},
   "source": [
    "We place all this definitions in a file called `HelloOps.td` within our `include/Hello` directory. You can have a look at the entire definition of the [`HelloOps.td`](https://github.com/Lewuathe/mlir-hello/blob/main/include/Hello/HelloOps.td) file in the github repo.\n",
    "\n",
    "One thing important to note is that you need to include the definition of the dialect using the tablegen's `include` [mechanism](https://bcain-llvm.readthedocs.io/projects/llvm/en/latest/TableGen/LangRef/#syntax):\n",
    "\n",
    "```cpp\n",
    "include \"HelloDialect.td\"\n",
    "```\n",
    "\n",
    "Our `include/Hello` directory now looks as follows:\n",
    "\n",
    "```bash\n",
    "$> tree ./include/Hello\n",
    "./include/Hello\n",
    "├── CMakeLists.txt\n",
    "├── HelloDialect.td\n",
    "└── HelloOps.td\n",
    "\n",
    "1 directory, 3 files\n",
    "```\n",
    "\n",
    "Now we need to make a couple of changes to our `include/Hello/CMakeLists.txt` file:\n",
    "\n",
    "```cmake\n",
    "add_mlir_dialect(HelloOps hello)\n",
    "add_mlir_doc(HelloDialect HelloDialect Hello/ -gen-dialect-doc)\n",
    "add_mlir_doc(HelloOps HelloOps Hello/ -gen-op-doc)\n",
    "```\n",
    "\n",
    "Note that for the dialect definition we use `HelloOps` instead of `HelloDialect`, as the former includes the latter. As well, we want to generate documentation for the operations we just introduced, hence, we add the `add_mlir_doc` command for the `HelloOps`.\n",
    "\n",
    "You can now re-run our `build.sh` script, and generate again docs and headers:\n",
    "\n",
    "```bash\n",
    "$> ./build.sh && ninja -C build -v mlir-docs mlir-headers\n",
    "```\n",
    "\n",
    "::: {.callout-tip}\n",
    "Running `ninja` in verbose mode (`-v` option) will show you all `mlir-tblgen` commands.\n",
    ":::\n",
    "\n",
    "We can now check that docs for the dialect and the ops were generated:\n",
    "\n",
    "```bash\n",
    "$> tree build/docs\n",
    "build/docs\n",
    "└── Hello\n",
    "    ├── HelloDialect.md\n",
    "    └── HelloOps.md\n",
    "\n",
    "2 directories, 2 files\n",
    "```\n",
    "\n",
    "As well as the corresponding C++ definitions and declarations:\n",
    "\n",
    "```bash\n",
    "$> tree build/include/Hello\n",
    "build/include/Hello\n",
    "├── CMakeFiles\n",
    "├── HelloDialect.md\n",
    "├── HelloDialect.md.d\n",
    "├── HelloOps.cpp.inc\n",
    "├── HelloOps.cpp.inc.d\n",
    "├── HelloOps.h.inc\n",
    "├── HelloOps.h.inc.d\n",
    "├── HelloOps.md\n",
    "├── HelloOps.md.d\n",
    "├── HelloOpsDialect.cpp.inc\n",
    "├── HelloOpsDialect.cpp.inc.d\n",
    "├── HelloOpsDialect.h.inc\n",
    "├── HelloOpsDialect.h.inc.d\n",
    "├── HelloOpsTypes.cpp.inc\n",
    "├── HelloOpsTypes.cpp.inc.d\n",
    "├── HelloOpsTypes.h.inc\n",
    "├── HelloOpsTypes.h.inc.d\n",
    "└── cmake_install.cmake\n",
    "\n",
    "2 directories, 17 files\n",
    "```\n",
    "\n",
    "Note the change in the filename pattern, this is due to the fact that we now are using the `HelloOps` file to define the dialect.\n",
    "\n",
    "To checkout the Op definitions, have a look at the files `build/include/Hello/HelloOps.*.inc`.\n"
   ]
  }
 ],
 "metadata": {
  "language_info": {
   "name": "python"
  }
 },
 "nbformat": 4,
 "nbformat_minor": 2
}
