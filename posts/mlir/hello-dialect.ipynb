{
 "cells": [
  {
   "attachments": {},
   "cell_type": "markdown",
   "metadata": {},
   "source": [
    "---\n",
    "title: \"A step by step guide to build the HELLO dialect for MLIR\"\n",
    "description: \"Building a MLIR dialect from 0\"\n",
    "author: \"Victor Guerra\"\n",
    "date: 2023-05-16\n",
    "date-modified: last-modified\n",
    "date-format: full\n",
    "draft: true\n",
    "page-layout: full\n",
    "categories: \n",
    "    - mlir\n",
    "    - compilers\n",
    "    - posts\n",
    "---"
   ]
  },
  {
   "attachments": {},
   "cell_type": "markdown",
   "metadata": {},
   "source": [
    "In this series of posts, we are going to see how to build from scratch a MLIR dialect. The dialect we are building here is the [*MLIR Hello Dialect*](https://github.com/Lewuathe/mlir-hello) by [Kai Sasaki](https://www.lewuathe.com/).\n",
    "\n",
    "## Prerequisites\n",
    "\n",
    "Throught the different posts I am going to assume you have a local build of MLIR. If you don't, you can checkout the [official getting started guide](https://mlir.llvm.org/getting_started/) for MLIR.\n",
    "\n",
    "## Overview of the Hello dialect\n",
    "\n",
    "The hello dialect provides 3 basic operations:\n",
    "\n",
    "* `hello.constant`: Constant operation that turns a literal into a SSA value.\n",
    "* `hello.print`: You guessed it, a print operation.\n",
    "* `hello.world`: Operation that prints \"Hello, World\".\n",
    "\n",
    "For a more detialed description of the operations checkout the [README of the Hello Dialect repo](https://github.com/Lewuathe/mlir-hello#operations).\n",
    "\n",
    "## Setting up the build system\n",
    "\n",
    "We start by setting up CMake with a minimal set of commands to build our project, for that we need a `CMakeList.txt` file:"
   ]
  },
  {
   "attachments": {},
   "cell_type": "markdown",
   "metadata": {},
   "source": [
    "```cmake\n",
    "cmake_minimum_required(VERSION 3.20.0)\n",
    "\n",
    "project(mlir-hello LANGUAGES CXX C)\n",
    "\n",
    "set(CMAKE_CXX_STANDARD 17 CACHE STRING \"C++ standard to conform to\")\n",
    "\n",
    "find_package(MLIR REQUIRED CONFIG)\n",
    "\n",
    "message(STATUS \"Using MLIRConfig.cmake in: ${MLIR_DIR}\")\n",
    "message(STATUS \"Using LLVMConfig.cmake in: ${LLVM_DIR}\")\n",
    "\n",
    "```"
   ]
  },
  {
   "attachments": {},
   "cell_type": "markdown",
   "metadata": {},
   "source": [
    "First, we name the project `mlir-hello` and specified the languages needed to build it. `C++` and `C` in this case. Then we make sure that we locate the `MLIR` package (and `LLVM` subsequentially) and load its specific details. This is the most basic `CMake` setup that you need to start working on your own dialect. You can already try to build your project using this `bash` script:\n"
   ]
  },
  {
   "attachments": {},
   "cell_type": "markdown",
   "metadata": {},
   "source": [
    "```bash\n",
    "rm -rf build\n",
    "mkdir build\n",
    "\n",
    "\n",
    "pushd build\n",
    "\n",
    "LLVM_BUILD_DIR=<PATH TO LLVMs BUILD DIRECTORY>\n",
    "\n",
    "cmake -G Ninja .. \\\n",
    "    -DLLVM_DIR=\"$LLVM_BUILD_DIR/lib/cmake/llvm\" \\\n",
    "    -DMLIR_DIR=\"$LLVM_BUILD_DIR/lib/cmake/mlir\" \\\n",
    "    -DCMAKE_BUILD_TYPE=Debug\n",
    "\n",
    "cmake --build .\n",
    "\n",
    "popd\n",
    "```"
   ]
  },
  {
   "attachments": {},
   "cell_type": "markdown",
   "metadata": {},
   "source": [
    "Note that `LLVM_BUILD_DIR` should point to the `build` directory of your local MLIR build."
   ]
  },
  {
   "attachments": {},
   "cell_type": "markdown",
   "metadata": {},
   "source": [
    "## Defining the dialect\n",
    "\n",
    "Now we move forward to define the Hello Dialect in the [ODS](https://mlir.llvm.org/docs/DefiningDialects/Operations/) format.\n",
    "\n",
    "```tablegen\n",
    "#ifndef HELLO_DIALECT\n",
    "#define HELLO_DIALECT\n",
    "\n",
    "include \"mlir/IR/OpBase.td\"\n",
    "\n",
    "//===----------------------------------------------------------------------===//\n",
    "// Hello dialect definition.\n",
    "//===----------------------------------------------------------------------===//\n",
    "\n",
    "def Hello_Dialect : Dialect {\n",
    "    let name = \"hello\";\n",
    "    let summary = \"A hello out-of-tree MLIR dialect.\";\n",
    "    let description = [{\n",
    "        This dialect is minimal example to implement hello-world kind of sample code\n",
    "        for MLIR.\n",
    "    }];\n",
    "    let cppNamespace = \"::hello\";\n",
    "    let hasConstantMaterializer = 1;\n",
    "}\n",
    "\n",
    "#endif // HELLO_DIALECT\n",
    "```\n",
    "\n",
    "Let's name this file `HelloDialect.td`. But, where do we place it? Following the recommendation of [`Creating a Dialect`](https://mlir.llvm.org/docs/Tutorials/CreatingADialect/) tutorial, we should place the `TableGen` files in the `include` directory. So let's create the following layout of directories:\n",
    "\n",
    "```bash\n",
    "./\n",
    "├── CMakeLists.txt\n",
    "└── include/\n",
    "    ├── CMakeLists.txt\n",
    "    └── Hello/\n",
    "        ├── CMakeLists.txt\n",
    "        └── HelloDialect.td\n",
    "```\n",
    "\n",
    "Let's have a look at what the newly introduced `CMakeLists.txt` files should be.\n",
    "\n",
    "`./include/CMakeLists.txt` is simple, we just need to signal the existance of the `Hello` directory:\n",
    "\n",
    "```cmake\n",
    "add_subdirectory(Hello)\n",
    "```\n",
    "\n",
    "`./include/Hello/CMakeLists.txt` contains some `MLIR` related commands:\n",
    "\n",
    "```cmake\n",
    "add_mlir_dialect(HelloDialect hello)\n",
    "add_mlir_doc(HelloDialect HelloDialect Hello/ -gen-dialect-doc)\n",
    "```\n",
    "\n",
    "`add_mlir_dialect` declares a dialect in the include directory. Its parameters are the dialect name and the namespace to be used.\n",
    "\n",
    "`add_mlir_doc` generates the documenation for the dialect. Its parameters are the td filename, the name of the output markdown file, the name of the directory where to put the documentation and finally the command to execute."
   ]
  },
  {
   "attachments": {},
   "cell_type": "markdown",
   "metadata": {},
   "source": []
  }
 ],
 "metadata": {
  "language_info": {
   "name": "python"
  }
 },
 "nbformat": 4,
 "nbformat_minor": 2
}
