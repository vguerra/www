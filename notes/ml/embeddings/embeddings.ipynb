{
 "cells": [
  {
   "attachments": {},
   "cell_type": "markdown",
   "metadata": {},
   "source": [
    "---\n",
    "title: \"The evolution of Embeddings\"\n",
    "description: \"How embeddings came to be\"\n",
    "author: \"Victor Guerra\"\n",
    "date: 2023-06-28\n",
    "date-modified: last-modified\n",
    "date-format: full\n",
    "draft: false\n",
    "page-layout: full\n",
    "categories: \n",
    "    - ml\n",
    "    - notes\n",
    "---"
   ]
  },
  {
   "attachments": {},
   "cell_type": "markdown",
   "metadata": {},
   "source": [
    "# Introduction\n",
    "\n",
    "The notes here are mainly inspired by the recent release of [What are embeddings?](https://vickiboykis.com/what_are_embeddings/) by [Vicki Boykis](https://vickiboykis.com/).\n",
    "\n",
    "\n",
    "{{< tweet vboykis 1665705338836746242 >}}"
   ]
  },
  {
   "attachments": {},
   "cell_type": "markdown",
   "metadata": {},
   "source": []
  }
 ],
 "metadata": {
  "language_info": {
   "name": "python"
  },
  "orig_nbformat": 4
 },
 "nbformat": 4,
 "nbformat_minor": 2
}
