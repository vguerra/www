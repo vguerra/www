{
 "cells": [
  {
   "attachments": {},
   "cell_type": "markdown",
   "metadata": {},
   "source": [
    "---\n",
    "title: \"Notes on MLIR\"\n",
    "description: \"Key concepts in the MLIR ecosystem\"\n",
    "author: \"Victor Guerra\"\n",
    "date: 2023-04-14\n",
    "date-modified: last-modified\n",
    "date-format: full\n",
    "draft: false\n",
    "page-layout: full\n",
    "categories: \n",
    "    - mlir\n",
    "    - compilers\n",
    "    - notes\n",
    "---"
   ]
  },
  {
   "cell_type": "markdown",
   "metadata": {},
   "source": [
    "# Glossary\n",
    "\n",
    "## Speculative operations\n",
    "Means that an operation is allowed to be speculatively executed, i.e. computed early, so the compiler can move th op to another location. An operation can be maked with the `AlwaysSPeculatable` trait.\n",
    "\n",
    "## Passes\n",
    "Represent basic infracstructure for transformation and optimization. Passes are enabled by adding traits to operations.\n",
    "\n",
    "### Control Flow Sync (-control-flow-sink)\n",
    "Moves ops that are only used in one branch of a conditional into the relevant branch. Requires op to be memory-effect free.\n",
    "\n",
    "### Control Subexpression Elimination (-cse)\n",
    "Removes unnecessarily repeated computations. Requires op to be memory-effect free.\n",
    "\n",
    "### Sparse Conditional Constant Propagation (-sccp)\n",
    "Attempts to infer when an operation has a constant output and then replaces the operation with the constant value, propagating the constant value as far as possible.\n",
    "\n",
    "## Traits\n",
    "Used to specify special properties and constraints of an object. They are a mechanism which abstracts implementation details and properties that are common across many different attributes/operations/types/etc.\n",
    "\n",
    "### "
   ]
  }
 ],
 "metadata": {
  "language_info": {
   "name": "python"
  }
 },
 "nbformat": 4,
 "nbformat_minor": 2
}
